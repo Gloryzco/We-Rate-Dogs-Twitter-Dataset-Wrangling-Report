{
 "cells": [
  {
   "cell_type": "markdown",
   "id": "f7581ebb",
   "metadata": {},
   "source": [
    "#  Wrangle Report\n",
    "- This report details the procedures followed in data collection, cleaning, and archiving.\n",
    "\n",
    "## Gathering\n",
    "- The project uses three datasets. The first dataset was a tab separated value text hosted on Udacty's servers that had to be manually downloaded. The second dataset was a csv that was provided by Udacity and downloaded manually using the 'Requests' module. Twitter API was used to obtain the final data.\n",
    "- I used the \"json.txt\" provided for us in the classroom. I could not obtain a developer account from twitter. \n",
    "\n",
    "## Accessing the data\n",
    "- The data was inspected visually and programmatically, and the following problems were found:\n",
    "\n",
    "### Quality and Tidiness Issues\n",
    "From the assessment section, some quality and tidiness issues were found\n",
    "\n",
    "#### Quality\n",
    "\n",
    "    1. Retweet that have images are not needed \n",
    "    2. Retweeted_status_id, retweeted_status_user_id, and retweeted_status_timestamp are not needed for this analysis.\n",
    "    3. Timestamps has a datatype of 'object' instead of 'datetime'.\n",
    "    4. There is a value for rating_denominator which is equal to zero (0). This is not ideal as the division will give us an undefined value\n",
    "    5. Some values in rating_numerator column less than \"10\"\n",
    "    6. The datatypes of columns rating_numerator and rating_denomenator should be float and not integer\n",
    "    7. There are None values in the name column\n",
    "    8. We have data that are not dogs\n",
    "    \n",
    "    \n",
    "#### Tidiness\n",
    "    1. Doggo, Floofer, Pupper and Puppo should be represented in a column for simplicity and to reduce redundancy\n",
    "    2. The three datasets need to be joined to fulfill the aim of this analysis\n",
    "    \n",
    "## Cleaning\n",
    "- All issues found were cleaned using codes.\n",
    "\n",
    "## Storing\n",
    "- The data was stored in a file called `twitter_archive_master.csv`\n",
    "\n",
    "## Analysis and Visualization\n",
    "- From my analysis and visualization, the Dumber breed of dog have the most rated. This could be a guide for prospective dog lovers to get there next or new dog breed.\n"
   ]
  }
 ],
 "metadata": {
  "kernelspec": {
   "display_name": "Python 3 (ipykernel)",
   "language": "python",
   "name": "python3"
  },
  "language_info": {
   "codemirror_mode": {
    "name": "ipython",
    "version": 3
   },
   "file_extension": ".py",
   "mimetype": "text/x-python",
   "name": "python",
   "nbconvert_exporter": "python",
   "pygments_lexer": "ipython3",
   "version": "3.9.7"
  }
 },
 "nbformat": 4,
 "nbformat_minor": 5
}
